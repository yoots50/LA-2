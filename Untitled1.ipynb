{
  "nbformat": 4,
  "nbformat_minor": 0,
  "metadata": {
    "colab": {
      "provenance": [],
      "authorship_tag": "ABX9TyMvTwwHJjw0Ly5Ax+YQdUSp",
      "include_colab_link": true
    },
    "kernelspec": {
      "name": "python3",
      "display_name": "Python 3"
    },
    "language_info": {
      "name": "python"
    }
  },
  "cells": [
    {
      "cell_type": "markdown",
      "metadata": {
        "id": "view-in-github",
        "colab_type": "text"
      },
      "source": [
        "<a href=\"https://colab.research.google.com/github/yoots50/LA-2/blob/main/Untitled1.ipynb\" target=\"_parent\"><img src=\"https://colab.research.google.com/assets/colab-badge.svg\" alt=\"Open In Colab\"/></a>"
      ]
    },
    {
      "cell_type": "markdown",
      "source": [
        "# Part 1. Eigen values & Eigen vectors  \n",
        "### 0. Import libraries"
      ],
      "metadata": {
        "id": "9RKIgEBgprLx"
      }
    },
    {
      "cell_type": "code",
      "execution_count": 4,
      "metadata": {
        "id": "hk2CODoWpahP"
      },
      "outputs": [],
      "source": [
        "import numpy as np\n",
        "import numpy.linalg as npl\n",
        "import matplotlib.pyplot as plt\n",
        "\n"
      ]
    },
    {
      "cell_type": "markdown",
      "source": [
        "### < eigen values & eigen vectors of A >\n",
        "$ Au = λu $"
      ],
      "metadata": {
        "id": "ja7YV2LXp1GM"
      }
    },
    {
      "cell_type": "code",
      "source": [
        "A = np.array([[4, 2], [1, 3]])\n",
        "print(\"A: \")\n",
        "print(A, \"\\n\")\n",
        "\n",
        "e_values, e_vectors = npl.eig(A)\n",
        "print(\"A의 고윳값 = \", e_values);\n",
        "print(\"A의 고유벡터 = \", e_vectors);\n",
        "\n",
        "u1 = np.vstack(e_vectors[:,0])\n",
        "u2 = np.vstack(e_vectors[:,1])\n",
        "print(\"u1: \", u1)\n",
        "print(\"u2: \", u2)\n",
        "\n",
        "l1, l2 = e_values[0], e_values[1]\n",
        "print(\"eigen values: \", l1, l2, \"\\n\")\n",
        "\n",
        "print(\"Au1: \", np.dot(A, u1))\n",
        "print(\"l1*u1: \", l1*u1)\n",
        "\n",
        "print(\"Au2: \", np.dot(A, u2))\n",
        "print(\"l2*u2: \", l2*u2)"
      ],
      "metadata": {
        "colab": {
          "base_uri": "https://localhost:8080/"
        },
        "id": "gFGaLm2kqBQh",
        "outputId": "109da08b-4781-46fa-9488-db6ca9da8d1c"
      },
      "execution_count": 6,
      "outputs": [
        {
          "output_type": "stream",
          "name": "stdout",
          "text": [
            "A: \n",
            "[[4 2]\n",
            " [1 3]] \n",
            "\n",
            "A의 고윳값 =  [5. 2.]\n",
            "A의 고유벡터 =  [[ 0.89442719 -0.70710678]\n",
            " [ 0.4472136   0.70710678]]\n",
            "u1:  [[0.89442719]\n",
            " [0.4472136 ]]\n",
            "u2:  [[-0.70710678]\n",
            " [ 0.70710678]]\n",
            "eigen values:  5.0 2.0 \n",
            "\n",
            "Au1:  [[4.47213595]\n",
            " [2.23606798]]\n",
            "l1*u1:  [[4.47213595]\n",
            " [2.23606798]]\n",
            "Au2:  [[-1.41421356]\n",
            " [ 1.41421356]]\n",
            "l2*u2:  [[-1.41421356]\n",
            " [ 1.41421356]]\n"
          ]
        }
      ]
    },
    {
      "cell_type": "code",
      "source": [
        "B = np.array([[5, 2, 0], [2, 5, 0], [-3, 4, 6]])\n",
        "w2, V2 = np.linalg.eig(B)\n",
        "\n",
        "print(\"\\nB의 고윳값 = \", w2)\n",
        "print(\"B의 고유벡터 = \", V2)"
      ],
      "metadata": {
        "colab": {
          "base_uri": "https://localhost:8080/"
        },
        "id": "vA64O11drFxq",
        "outputId": "7a0d17ca-f988-4d9d-e89e-df4a0976b78e"
      },
      "execution_count": 7,
      "outputs": [
        {
          "output_type": "stream",
          "name": "stdout",
          "text": [
            "\n",
            "B의 고윳값 =  [6. 7. 3.]\n",
            "B의 고유벡터 =  [[ 0.          0.57735027  0.36650833]\n",
            " [ 0.          0.57735027 -0.36650833]\n",
            " [ 1.          0.57735027  0.85518611]]\n"
          ]
        }
      ]
    },
    {
      "cell_type": "markdown",
      "source": [
        "# Part 2. PCA  \n",
        "### 0) Import libraries"
      ],
      "metadata": {
        "id": "W7J66_U_rfo4"
      }
    },
    {
      "cell_type": "code",
      "source": [
        "import numpy as np\n",
        "import matplotlib.pyplot as plt\n",
        "from sklearn.decomposition import PCA\n",
        "import pandas as pd\n",
        "from sklearn.preprocessing import StandardScaler"
      ],
      "metadata": {
        "id": "zV8ZnSn9rtC9"
      },
      "execution_count": 9,
      "outputs": []
    },
    {
      "cell_type": "markdown",
      "source": [
        "### 1) Download Iris dataset"
      ],
      "metadata": {
        "id": "3cbNOT5xt67k"
      }
    },
    {
      "cell_type": "code",
      "source": [
        "url = \"https://archive.ics.uci.edu/ml/machine-learning-databases/iris/iris.data\"\n",
        "\n",
        "df = pd.read_csv(url, names = ['sepal length', 'sepal width', 'petal length', 'petal width', 'target'])\n",
        "\n",
        "nrow, ncol = df.shape\n",
        "print(\"Iris data set :\", nrow, \"records with\", ncol, \"attributes\\n\")\n",
        "print(\"First 5 records in iris data\\n\", df.head(5))\n",
        "features = ['sepal length', 'sepal width', 'petal length', 'petal width']\n",
        "x = df.loc[:, features].values\n",
        "y = df.loc[:,['target']].values\n",
        "x = StandardScaler().fit_transform(x)"
      ],
      "metadata": {
        "colab": {
          "base_uri": "https://localhost:8080/"
        },
        "id": "fZFP7GPbsIc6",
        "outputId": "eb7950e5-78d6-46d2-b6f3-e51e005d564b"
      },
      "execution_count": 10,
      "outputs": [
        {
          "output_type": "stream",
          "name": "stdout",
          "text": [
            "Iris data set : 150 records with 5 attributes\n",
            "\n",
            "First 5 records in iris data\n",
            "    sepal length  sepal width  petal length  petal width       target\n",
            "0           5.1          3.5           1.4          0.2  Iris-setosa\n",
            "1           4.9          3.0           1.4          0.2  Iris-setosa\n",
            "2           4.7          3.2           1.3          0.2  Iris-setosa\n",
            "3           4.6          3.1           1.5          0.2  Iris-setosa\n",
            "4           5.0          3.6           1.4          0.2  Iris-setosa\n"
          ]
        }
      ]
    },
    {
      "cell_type": "markdown",
      "source": [
        "### 2) PCA"
      ],
      "metadata": {
        "id": "iw3y6X1Tt-bx"
      }
    },
    {
      "cell_type": "code",
      "source": [
        "pca = PCA(n_components = 2)\n",
        "principalComponents = pca.fit_transform(x)\n",
        "\n",
        "print(\"\\nFirst principal axis:\", pca.components_[0])\n",
        "print(\"Second principal axis:\", pca.components_[1])\n",
        "\n",
        "principalDf = pd.DataFrame(data = principalComponents, columns = ['principal component 1', 'principal component 2'])\n",
        "finalDf = pd.concat([principalDf, df[['target']]], axis = 1)\n",
        "\n",
        "print(\"\\nFirst 5 Transformed records\\n\", finalDf.head(5))"
      ],
      "metadata": {
        "colab": {
          "base_uri": "https://localhost:8080/"
        },
        "id": "EeRs6X_Gs7ya",
        "outputId": "d540ffc9-b3ca-4c99-9346-d91d9221062c"
      },
      "execution_count": 11,
      "outputs": [
        {
          "output_type": "stream",
          "name": "stdout",
          "text": [
            "\n",
            "First principal axis: [ 0.52237162 -0.26335492  0.58125401  0.56561105]\n",
            "Second principal axis: [0.37231836 0.92555649 0.02109478 0.06541577]\n",
            "\n",
            "First 5 Transformed records\n",
            "    principal component 1  principal component 2       target\n",
            "0              -2.264542               0.505704  Iris-setosa\n",
            "1              -2.086426              -0.655405  Iris-setosa\n",
            "2              -2.367950              -0.318477  Iris-setosa\n",
            "3              -2.304197              -0.575368  Iris-setosa\n",
            "4              -2.388777               0.674767  Iris-setosa\n"
          ]
        }
      ]
    },
    {
      "cell_type": "markdown",
      "source": [
        "### 3) Plot Iris dataset on the 2 components"
      ],
      "metadata": {
        "id": "p8Nu2sKouAwn"
      }
    },
    {
      "cell_type": "code",
      "source": [
        "fig = plt.figure(figsize = (8, 8))\n",
        "ax = fig.add_subplot(1, 1, 1)\n",
        "ax.set_xlabel('principal components 1', fontsize = 12)\n",
        "ax.set_ylabel('principal components 2', fontsize = 12)\n",
        "ax.set_title('PCA with 2 components', fontsize = 15)\n",
        "\n",
        "targets = ['Iris-setosa', 'Iris-versicolor', 'Iris-virginica']\n",
        "colors = ['r', 'g', 'b']\n",
        "for target, color in zip(targets, colors):\n",
        "  indicesToKeep = finalDf['target'] == target\n",
        "  ax.scatter(finalDf.loc[indicesToKeep, 'principal component 1'], finalDf.loc[indicesToKeep, 'principal component 2'], c = color, s = 40)\n",
        "ax.legend(target)\n",
        "ax.grid()\n",
        "fig.show()"
      ],
      "metadata": {
        "colab": {
          "base_uri": "https://localhost:8080/",
          "height": 724
        },
        "id": "_LJC-jgvuFbY",
        "outputId": "8f149191-5e30-4cbc-92fa-82e878ab4e0e"
      },
      "execution_count": 13,
      "outputs": [
        {
          "output_type": "display_data",
          "data": {
            "text/plain": [
              "<Figure size 800x800 with 1 Axes>"
            ],
            "image/png": "[encoded data removed]"
          },
          "metadata": {}
        }
      ]
    }
  ]
}